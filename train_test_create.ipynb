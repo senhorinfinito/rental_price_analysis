{
 "cells": [
  {
   "cell_type": "code",
   "execution_count": 1,
   "id": "89556387",
   "metadata": {},
   "outputs": [],
   "source": [
    "## Import Essential Libraries \n",
    "import os\n",
    "from math import *\n",
    "from scipy.stats import *\n",
    "import numpy as np\n",
    "import re\n",
    "import pandas as pd\n",
    "import matplotlib.pyplot as plt\n",
    "import seaborn as sns\n",
    "import geocoder\n",
    "import geopy\n",
    "from geopy.geocoders import Nominatim\n",
    "from sklearn.model_selection import train_test_split, cross_val_score, KFold\n",
    "from sklearn.preprocessing import MinMaxScaler, StandardScaler\n",
    "from sklearn.linear_model import LinearRegression, Ridge, ElasticNet, Lasso\n",
    "from sklearn.metrics import r2_score, mean_absolute_error, mean_squared_error"
   ]
  },
  {
   "cell_type": "code",
   "execution_count": 2,
   "id": "fc3c890b",
   "metadata": {},
   "outputs": [
    {
     "data": {
      "text/html": [
       "<div>\n",
       "<style scoped>\n",
       "    .dataframe tbody tr th:only-of-type {\n",
       "        vertical-align: middle;\n",
       "    }\n",
       "\n",
       "    .dataframe tbody tr th {\n",
       "        vertical-align: top;\n",
       "    }\n",
       "\n",
       "    .dataframe thead th {\n",
       "        text-align: right;\n",
       "    }\n",
       "</style>\n",
       "<table border=\"1\" class=\"dataframe\">\n",
       "  <thead>\n",
       "    <tr style=\"text-align: right;\">\n",
       "      <th></th>\n",
       "      <th>rent</th>\n",
       "      <th>bedroom</th>\n",
       "      <th>bathrooms</th>\n",
       "      <th>area</th>\n",
       "      <th>furnishing</th>\n",
       "      <th>avalable_for</th>\n",
       "      <th>address</th>\n",
       "      <th>floor_number</th>\n",
       "      <th>facing</th>\n",
       "      <th>floor_type</th>\n",
       "      <th>...</th>\n",
       "      <th>no_room</th>\n",
       "      <th>pooja_room</th>\n",
       "      <th>study_room</th>\n",
       "      <th>others</th>\n",
       "      <th>servant_room</th>\n",
       "      <th>store_room</th>\n",
       "      <th>maintenance_amt</th>\n",
       "      <th>brok_amt</th>\n",
       "      <th>deposit_amt</th>\n",
       "      <th>mnt_amt</th>\n",
       "    </tr>\n",
       "  </thead>\n",
       "  <tbody>\n",
       "    <tr>\n",
       "      <th>0</th>\n",
       "      <td>27000.0</td>\n",
       "      <td>3</td>\n",
       "      <td>2</td>\n",
       "      <td>0.0</td>\n",
       "      <td>Furnished</td>\n",
       "      <td>Family , Bachelors (Women Only)</td>\n",
       "      <td>Shree Ganesh kalpataru co op hsg society, Gujr...</td>\n",
       "      <td>3</td>\n",
       "      <td>South</td>\n",
       "      <td>Not provided</td>\n",
       "      <td>...</td>\n",
       "      <td>1</td>\n",
       "      <td>0</td>\n",
       "      <td>0</td>\n",
       "      <td>0</td>\n",
       "      <td>0</td>\n",
       "      <td>0</td>\n",
       "      <td>0</td>\n",
       "      <td>0.0</td>\n",
       "      <td>125000.0</td>\n",
       "      <td>0.0</td>\n",
       "    </tr>\n",
       "    <tr>\n",
       "      <th>1</th>\n",
       "      <td>15000.0</td>\n",
       "      <td>2</td>\n",
       "      <td>1</td>\n",
       "      <td>0.0</td>\n",
       "      <td>Furnished</td>\n",
       "      <td>Bachelors (Men Only)</td>\n",
       "      <td>Chandranil Apartment, Yerwada, , Pune, Maharas...</td>\n",
       "      <td>2</td>\n",
       "      <td>North</td>\n",
       "      <td>Not provided</td>\n",
       "      <td>...</td>\n",
       "      <td>1</td>\n",
       "      <td>0</td>\n",
       "      <td>0</td>\n",
       "      <td>0</td>\n",
       "      <td>0</td>\n",
       "      <td>0</td>\n",
       "      <td>0</td>\n",
       "      <td>0.0</td>\n",
       "      <td>0.0</td>\n",
       "      <td>0.0</td>\n",
       "    </tr>\n",
       "    <tr>\n",
       "      <th>2</th>\n",
       "      <td>17000.0</td>\n",
       "      <td>2</td>\n",
       "      <td>2</td>\n",
       "      <td>900.0</td>\n",
       "      <td>Unfurnished</td>\n",
       "      <td>All</td>\n",
       "      <td>Sagar D Wisteria Park, Vadgaon Budruk, , Pune,...</td>\n",
       "      <td>1</td>\n",
       "      <td>No Direction</td>\n",
       "      <td>Not provided</td>\n",
       "      <td>...</td>\n",
       "      <td>1</td>\n",
       "      <td>0</td>\n",
       "      <td>0</td>\n",
       "      <td>0</td>\n",
       "      <td>0</td>\n",
       "      <td>0</td>\n",
       "      <td>0</td>\n",
       "      <td>0.0</td>\n",
       "      <td>0.0</td>\n",
       "      <td>0.0</td>\n",
       "    </tr>\n",
       "    <tr>\n",
       "      <th>3</th>\n",
       "      <td>14000.0</td>\n",
       "      <td>2</td>\n",
       "      <td>2</td>\n",
       "      <td>875.0</td>\n",
       "      <td>Semifurnished</td>\n",
       "      <td>Family Only</td>\n",
       "      <td>Kolte Patil Three Jewels, Katraj Kondhwa Road,...</td>\n",
       "      <td>4</td>\n",
       "      <td>East</td>\n",
       "      <td>Polished concrete</td>\n",
       "      <td>...</td>\n",
       "      <td>1</td>\n",
       "      <td>0</td>\n",
       "      <td>0</td>\n",
       "      <td>0</td>\n",
       "      <td>0</td>\n",
       "      <td>0</td>\n",
       "      <td>0</td>\n",
       "      <td>0.0</td>\n",
       "      <td>40000.0</td>\n",
       "      <td>0.0</td>\n",
       "    </tr>\n",
       "    <tr>\n",
       "      <th>4</th>\n",
       "      <td>24000.0</td>\n",
       "      <td>2</td>\n",
       "      <td>2</td>\n",
       "      <td>1330.0</td>\n",
       "      <td>Furnished</td>\n",
       "      <td>Family , Bachelors (Men Only)</td>\n",
       "      <td>Sauhard, Nigdi, , Pune, Maharashtra</td>\n",
       "      <td>3</td>\n",
       "      <td>East</td>\n",
       "      <td>Stone</td>\n",
       "      <td>...</td>\n",
       "      <td>1</td>\n",
       "      <td>0</td>\n",
       "      <td>0</td>\n",
       "      <td>0</td>\n",
       "      <td>0</td>\n",
       "      <td>0</td>\n",
       "      <td>0</td>\n",
       "      <td>0.0</td>\n",
       "      <td>2.0</td>\n",
       "      <td>0.0</td>\n",
       "    </tr>\n",
       "  </tbody>\n",
       "</table>\n",
       "<p>5 rows × 30 columns</p>\n",
       "</div>"
      ],
      "text/plain": [
       "      rent  bedroom  bathrooms    area     furnishing  \\\n",
       "0  27000.0        3          2     0.0      Furnished   \n",
       "1  15000.0        2          1     0.0      Furnished   \n",
       "2  17000.0        2          2   900.0    Unfurnished   \n",
       "3  14000.0        2          2   875.0  Semifurnished   \n",
       "4  24000.0        2          2  1330.0      Furnished   \n",
       "\n",
       "                      avalable_for  \\\n",
       "0  Family , Bachelors (Women Only)   \n",
       "1             Bachelors (Men Only)   \n",
       "2                              All   \n",
       "3                      Family Only   \n",
       "4    Family , Bachelors (Men Only)   \n",
       "\n",
       "                                             address  floor_number  \\\n",
       "0  Shree Ganesh kalpataru co op hsg society, Gujr...             3   \n",
       "1  Chandranil Apartment, Yerwada, , Pune, Maharas...             2   \n",
       "2  Sagar D Wisteria Park, Vadgaon Budruk, , Pune,...             1   \n",
       "3  Kolte Patil Three Jewels, Katraj Kondhwa Road,...             4   \n",
       "4                Sauhard, Nigdi, , Pune, Maharashtra             3   \n",
       "\n",
       "         facing         floor_type  ... no_room pooja_room  study_room others  \\\n",
       "0         South       Not provided  ...       1          0           0      0   \n",
       "1         North       Not provided  ...       1          0           0      0   \n",
       "2  No Direction       Not provided  ...       1          0           0      0   \n",
       "3          East  Polished concrete  ...       1          0           0      0   \n",
       "4          East              Stone  ...       1          0           0      0   \n",
       "\n",
       "  servant_room  store_room  maintenance_amt  brok_amt  deposit_amt mnt_amt  \n",
       "0            0           0                0       0.0     125000.0     0.0  \n",
       "1            0           0                0       0.0          0.0     0.0  \n",
       "2            0           0                0       0.0          0.0     0.0  \n",
       "3            0           0                0       0.0      40000.0     0.0  \n",
       "4            0           0                0       0.0          2.0     0.0  \n",
       "\n",
       "[5 rows x 30 columns]"
      ]
     },
     "execution_count": 2,
     "metadata": {},
     "output_type": "execute_result"
    }
   ],
   "source": [
    "df = pd.read_csv('final_data.csv')\n",
    "df.head()"
   ]
  },
  {
   "cell_type": "code",
   "execution_count": 3,
   "id": "3e2cf455",
   "metadata": {},
   "outputs": [],
   "source": [
    "X=  df.drop('rent', axis = 1)\n",
    "y =  df['rent']"
   ]
  },
  {
   "cell_type": "code",
   "execution_count": 4,
   "id": "f6cdd9b2",
   "metadata": {},
   "outputs": [],
   "source": [
    "\n",
    "X_train, X_test, y_train, y_test = train_test_split(X, y, test_size= 0.33, random_state= 2012)"
   ]
  },
  {
   "cell_type": "code",
   "execution_count": 5,
   "id": "66e50742",
   "metadata": {},
   "outputs": [
    {
     "name": "stdout",
     "output_type": "stream",
     "text": [
      "(10884, 29) (5361, 29)\n"
     ]
    }
   ],
   "source": [
    "print(X_train.shape, X_test.shape)"
   ]
  },
  {
   "cell_type": "code",
   "execution_count": 6,
   "id": "39200d69",
   "metadata": {},
   "outputs": [
    {
     "data": {
      "text/plain": [
       "12994    20000.0\n",
       "8198     14000.0\n",
       "3414     22999.0\n",
       "10315    13000.0\n",
       "6949      7500.0\n",
       "          ...   \n",
       "11120    15000.0\n",
       "4549     11000.0\n",
       "4369     55000.0\n",
       "13487    14000.0\n",
       "5209     23000.0\n",
       "Name: rent, Length: 10884, dtype: float64"
      ]
     },
     "execution_count": 6,
     "metadata": {},
     "output_type": "execute_result"
    }
   ],
   "source": [
    "y_train"
   ]
  },
  {
   "cell_type": "code",
   "execution_count": 7,
   "id": "c7078801",
   "metadata": {},
   "outputs": [],
   "source": [
    "train = X_train"
   ]
  },
  {
   "cell_type": "code",
   "execution_count": 8,
   "id": "10478bda",
   "metadata": {},
   "outputs": [
    {
     "name": "stderr",
     "output_type": "stream",
     "text": [
      "c:\\users\\anant sakhare\\appdata\\local\\programs\\python\\python37\\lib\\site-packages\\ipykernel_launcher.py:1: SettingWithCopyWarning: \n",
      "A value is trying to be set on a copy of a slice from a DataFrame.\n",
      "Try using .loc[row_indexer,col_indexer] = value instead\n",
      "\n",
      "See the caveats in the documentation: https://pandas.pydata.org/pandas-docs/stable/user_guide/indexing.html#returning-a-view-versus-a-copy\n",
      "  \"\"\"Entry point for launching an IPython kernel.\n"
     ]
    }
   ],
   "source": [
    "train['rent'] = y_train"
   ]
  },
  {
   "cell_type": "code",
   "execution_count": 9,
   "id": "23eaf0fc",
   "metadata": {},
   "outputs": [
    {
     "data": {
      "text/plain": [
       "(10884,)"
      ]
     },
     "execution_count": 9,
     "metadata": {},
     "output_type": "execute_result"
    }
   ],
   "source": [
    "train['rent'].shape"
   ]
  },
  {
   "cell_type": "code",
   "execution_count": 10,
   "id": "09a53253",
   "metadata": {},
   "outputs": [
    {
     "name": "stderr",
     "output_type": "stream",
     "text": [
      "c:\\users\\anant sakhare\\appdata\\local\\programs\\python\\python37\\lib\\site-packages\\ipykernel_launcher.py:2: SettingWithCopyWarning: \n",
      "A value is trying to be set on a copy of a slice from a DataFrame.\n",
      "Try using .loc[row_indexer,col_indexer] = value instead\n",
      "\n",
      "See the caveats in the documentation: https://pandas.pydata.org/pandas-docs/stable/user_guide/indexing.html#returning-a-view-versus-a-copy\n",
      "  \n"
     ]
    }
   ],
   "source": [
    "test= X_test\n",
    "test['rent'] = y_test"
   ]
  },
  {
   "cell_type": "code",
   "execution_count": 11,
   "id": "f670bc2d",
   "metadata": {},
   "outputs": [],
   "source": [
    "train.to_csv('train.csv', index_label= False)"
   ]
  },
  {
   "cell_type": "code",
   "execution_count": 12,
   "id": "bb536b83",
   "metadata": {},
   "outputs": [],
   "source": [
    "test.to_csv('test.csv', index_label= False)"
   ]
  },
  {
   "cell_type": "code",
   "execution_count": null,
   "id": "b1d3d18c",
   "metadata": {},
   "outputs": [],
   "source": []
  }
 ],
 "metadata": {
  "kernelspec": {
   "display_name": "Python 3",
   "language": "python",
   "name": "python3"
  },
  "language_info": {
   "codemirror_mode": {
    "name": "ipython",
    "version": 3
   },
   "file_extension": ".py",
   "mimetype": "text/x-python",
   "name": "python",
   "nbconvert_exporter": "python",
   "pygments_lexer": "ipython3",
   "version": "3.7.7"
  }
 },
 "nbformat": 4,
 "nbformat_minor": 5
}
