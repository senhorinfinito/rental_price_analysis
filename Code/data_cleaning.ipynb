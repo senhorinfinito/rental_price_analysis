{
 "cells": [
  {
   "cell_type": "markdown",
   "id": "8701c8da",
   "metadata": {
    "scrolled": false
   },
   "source": [
    "# Rental Data House Price Prediction  DataSet Cleaning Work. \n",
    "\n",
    "### This is my regression analysis project which will help to find out an approximate rent price estmiation if you are interested to rent your home.\n",
    "\n",
    "\n",
    "<a href= 'https://www.99acres .com/'> 99acre</a> data has scrapped from website attached in hyper link\n",
    "\n",
    "\n"
   ]
  },
  {
   "cell_type": "markdown",
   "id": "d5a7cdad",
   "metadata": {},
   "source": [
    "### First load all the files \n",
    "\n"
   ]
  },
  {
   "cell_type": "code",
   "execution_count": 1,
   "id": "45606c1c",
   "metadata": {},
   "outputs": [],
   "source": [
    "import os \n",
    "import pandas as pd\n",
    "filenames = os.listdir()\n",
    "filenames = filenames[3:-1] # other cotain does not contain data. so wee dropped those files\n",
    "# list_of_all_file"
   ]
  },
  {
   "cell_type": "code",
   "execution_count": 2,
   "id": "30f95927",
   "metadata": {},
   "outputs": [
    {
     "data": {
      "text/html": [
       "<div>\n",
       "<style scoped>\n",
       "    .dataframe tbody tr th:only-of-type {\n",
       "        vertical-align: middle;\n",
       "    }\n",
       "\n",
       "    .dataframe tbody tr th {\n",
       "        vertical-align: top;\n",
       "    }\n",
       "\n",
       "    .dataframe thead th {\n",
       "        text-align: right;\n",
       "    }\n",
       "</style>\n",
       "<table border=\"1\" class=\"dataframe\">\n",
       "  <thead>\n",
       "    <tr style=\"text-align: right;\">\n",
       "      <th></th>\n",
       "      <th>rent</th>\n",
       "      <th>bedroom</th>\n",
       "      <th>bathrooms</th>\n",
       "      <th>additional_rooms</th>\n",
       "      <th>balcany</th>\n",
       "      <th>brokarage</th>\n",
       "      <th>area</th>\n",
       "      <th>furnishing</th>\n",
       "      <th>avalable_for</th>\n",
       "      <th>address</th>\n",
       "      <th>...</th>\n",
       "      <th>gate_community</th>\n",
       "      <th>corner_pro</th>\n",
       "      <th>parking</th>\n",
       "      <th>wheelchairadption</th>\n",
       "      <th>petfacility</th>\n",
       "      <th>aggDur</th>\n",
       "      <th>noticeDur</th>\n",
       "      <th>lightbill</th>\n",
       "      <th>powerbackup</th>\n",
       "      <th>propertyage</th>\n",
       "    </tr>\n",
       "  </thead>\n",
       "  <tbody>\n",
       "    <tr>\n",
       "      <th>0</th>\n",
       "      <td>27,000</td>\n",
       "      <td>3.0</td>\n",
       "      <td>2.0</td>\n",
       "      <td>Not given</td>\n",
       "      <td>NaN</td>\n",
       "      <td>Deposit₹ 125,000/-</td>\n",
       "      <td>Super Built up area 958(89 sq.m.)  sq.ft.</td>\n",
       "      <td>Furnished</td>\n",
       "      <td>Family , Bachelors (Women Only)</td>\n",
       "      <td>in Shree Ganesh kalpataru co op hsg society, ...</td>\n",
       "      <td>...</td>\n",
       "      <td>Yes</td>\n",
       "      <td>NaN</td>\n",
       "      <td>1 Covered</td>\n",
       "      <td>NaN</td>\n",
       "      <td>NaN</td>\n",
       "      <td>None</td>\n",
       "      <td>0 Months</td>\n",
       "      <td>Charges not included</td>\n",
       "      <td>None</td>\n",
       "      <td>10+ Year Old</td>\n",
       "    </tr>\n",
       "    <tr>\n",
       "      <th>1</th>\n",
       "      <td>15,000</td>\n",
       "      <td>2.0</td>\n",
       "      <td>1.0</td>\n",
       "      <td>Not given</td>\n",
       "      <td>NaN</td>\n",
       "      <td>NaN</td>\n",
       "      <td>Super Built up area 650(60.39 sq.m.)  sq.ft.</td>\n",
       "      <td>Furnished</td>\n",
       "      <td>Bachelors (Men Only)</td>\n",
       "      <td>in Chandranil Apartment, Yerwada, , Pune, Mah...</td>\n",
       "      <td>...</td>\n",
       "      <td>NaN</td>\n",
       "      <td>NaN</td>\n",
       "      <td>NaN</td>\n",
       "      <td>NaN</td>\n",
       "      <td>NaN</td>\n",
       "      <td>None</td>\n",
       "      <td>0 Months</td>\n",
       "      <td>Charges included</td>\n",
       "      <td>None</td>\n",
       "      <td>5 to 10 Year Old</td>\n",
       "    </tr>\n",
       "    <tr>\n",
       "      <th>2</th>\n",
       "      <td>17,000</td>\n",
       "      <td>2.0</td>\n",
       "      <td>2.0</td>\n",
       "      <td>Not given</td>\n",
       "      <td>2</td>\n",
       "      <td>NaN</td>\n",
       "      <td>Carpet area: 900 (83.61 sq.m.)  sq.ft.</td>\n",
       "      <td>Unfurnished</td>\n",
       "      <td>All</td>\n",
       "      <td>in Sagar D Wisteria Park, Vadgaon Budruk, , P...</td>\n",
       "      <td>...</td>\n",
       "      <td>NaN</td>\n",
       "      <td>NaN</td>\n",
       "      <td>1 Covered</td>\n",
       "      <td>NaN</td>\n",
       "      <td>NaN</td>\n",
       "      <td>None</td>\n",
       "      <td>0 Months</td>\n",
       "      <td>Charges included</td>\n",
       "      <td>None</td>\n",
       "      <td>1 to 5 Year Old</td>\n",
       "    </tr>\n",
       "    <tr>\n",
       "      <th>3</th>\n",
       "      <td>14,000</td>\n",
       "      <td>2.0</td>\n",
       "      <td>2.0</td>\n",
       "      <td>Not given</td>\n",
       "      <td>2</td>\n",
       "      <td>Deposit₹ 40,000/-</td>\n",
       "      <td>Super Built up area 1000(92.9 sq.m.)Built Up a...</td>\n",
       "      <td>Semifurnished</td>\n",
       "      <td>Family Only</td>\n",
       "      <td>in Kolte Patil Three Jewels, Katraj Kondhwa R...</td>\n",
       "      <td>...</td>\n",
       "      <td>Yes</td>\n",
       "      <td>NaN</td>\n",
       "      <td>1 Open</td>\n",
       "      <td>Yes</td>\n",
       "      <td>Yes</td>\n",
       "      <td>11 Months</td>\n",
       "      <td>1 Months</td>\n",
       "      <td>Charges not included</td>\n",
       "      <td>Partial</td>\n",
       "      <td>1 to 5 Year Old</td>\n",
       "    </tr>\n",
       "    <tr>\n",
       "      <th>4</th>\n",
       "      <td>24,000</td>\n",
       "      <td>2.0</td>\n",
       "      <td>2.0</td>\n",
       "      <td>Not given</td>\n",
       "      <td>2</td>\n",
       "      <td>Deposit2 months rent</td>\n",
       "      <td>Carpet area: 1330 (123.56 sq.m.)  sq.ft.</td>\n",
       "      <td>Furnished</td>\n",
       "      <td>Family , Bachelors (Men Only)</td>\n",
       "      <td>in Sauhard, Nigdi, , Pune, Maharashtra</td>\n",
       "      <td>...</td>\n",
       "      <td>NaN</td>\n",
       "      <td>NaN</td>\n",
       "      <td>1 Open</td>\n",
       "      <td>NaN</td>\n",
       "      <td>NaN</td>\n",
       "      <td>11 Months</td>\n",
       "      <td>1 Months</td>\n",
       "      <td>Charges not included</td>\n",
       "      <td>Partial</td>\n",
       "      <td>10+ Year Old</td>\n",
       "    </tr>\n",
       "  </tbody>\n",
       "</table>\n",
       "<p>5 rows × 23 columns</p>\n",
       "</div>"
      ],
      "text/plain": [
       "     rent  bedroom  bathrooms additional_rooms balcany             brokarage  \\\n",
       "0  27,000      3.0        2.0        Not given     NaN    Deposit₹ 125,000/-   \n",
       "1  15,000      2.0        1.0        Not given     NaN                   NaN   \n",
       "2  17,000      2.0        2.0        Not given       2                   NaN   \n",
       "3  14,000      2.0        2.0        Not given       2     Deposit₹ 40,000/-   \n",
       "4  24,000      2.0        2.0        Not given       2  Deposit2 months rent   \n",
       "\n",
       "                                                area     furnishing  \\\n",
       "0          Super Built up area 958(89 sq.m.)  sq.ft.      Furnished   \n",
       "1       Super Built up area 650(60.39 sq.m.)  sq.ft.      Furnished   \n",
       "2             Carpet area: 900 (83.61 sq.m.)  sq.ft.    Unfurnished   \n",
       "3  Super Built up area 1000(92.9 sq.m.)Built Up a...  Semifurnished   \n",
       "4           Carpet area: 1330 (123.56 sq.m.)  sq.ft.      Furnished   \n",
       "\n",
       "                      avalable_for  \\\n",
       "0  Family , Bachelors (Women Only)   \n",
       "1             Bachelors (Men Only)   \n",
       "2                              All   \n",
       "3                      Family Only   \n",
       "4    Family , Bachelors (Men Only)   \n",
       "\n",
       "                                             address  ... gate_community  \\\n",
       "0   in Shree Ganesh kalpataru co op hsg society, ...  ...            Yes   \n",
       "1   in Chandranil Apartment, Yerwada, , Pune, Mah...  ...            NaN   \n",
       "2   in Sagar D Wisteria Park, Vadgaon Budruk, , P...  ...            NaN   \n",
       "3   in Kolte Patil Three Jewels, Katraj Kondhwa R...  ...            Yes   \n",
       "4             in Sauhard, Nigdi, , Pune, Maharashtra  ...            NaN   \n",
       "\n",
       "  corner_pro    parking wheelchairadption petfacility     aggDur noticeDur  \\\n",
       "0        NaN  1 Covered               NaN         NaN       None  0 Months   \n",
       "1        NaN        NaN               NaN         NaN       None  0 Months   \n",
       "2        NaN  1 Covered               NaN         NaN       None  0 Months   \n",
       "3        NaN     1 Open               Yes         Yes  11 Months  1 Months   \n",
       "4        NaN     1 Open               NaN         NaN  11 Months  1 Months   \n",
       "\n",
       "              lightbill powerbackup       propertyage  \n",
       "0  Charges not included        None      10+ Year Old  \n",
       "1      Charges included        None  5 to 10 Year Old  \n",
       "2      Charges included        None   1 to 5 Year Old  \n",
       "3  Charges not included     Partial   1 to 5 Year Old  \n",
       "4  Charges not included     Partial      10+ Year Old  \n",
       "\n",
       "[5 rows x 23 columns]"
      ]
     },
     "execution_count": 2,
     "metadata": {},
     "output_type": "execute_result"
    }
   ],
   "source": [
    "dfs = []\n",
    "for filename in filenames:\n",
    "    dfs.append(pd.read_csv(filename ,  skiprows=0))\n",
    "main_data = pd.concat(dfs, ignore_index=  True)\n",
    "main_data.head()"
   ]
  },
  {
   "cell_type": "code",
   "execution_count": 3,
   "id": "26b9a3f4",
   "metadata": {},
   "outputs": [
    {
     "data": {
      "text/plain": [
       "(16875, 23)"
      ]
     },
     "execution_count": 3,
     "metadata": {},
     "output_type": "execute_result"
    }
   ],
   "source": [
    "main_data.shape"
   ]
  },
  {
   "cell_type": "markdown",
   "id": "3306966a",
   "metadata": {},
   "source": [
    "We have around  16,000+  home data from  website, which contain 23  category of data in this file. Now create a copy of original data & try to clean all bugs inside in it. "
   ]
  },
  {
   "cell_type": "code",
   "execution_count": 4,
   "id": "992be419",
   "metadata": {},
   "outputs": [],
   "source": [
    "# creating a copy \n",
    "df = main_data.copy()\n",
    "\n"
   ]
  },
  {
   "cell_type": "code",
   "execution_count": 5,
   "id": "99fc203e",
   "metadata": {},
   "outputs": [
    {
     "name": "stdout",
     "output_type": "stream",
     "text": [
      "<class 'pandas.core.frame.DataFrame'>\n",
      "RangeIndex: 16875 entries, 0 to 16874\n",
      "Data columns (total 23 columns):\n",
      " #   Column             Non-Null Count  Dtype  \n",
      "---  ------             --------------  -----  \n",
      " 0   rent               16245 non-null  object \n",
      " 1   bedroom            16171 non-null  float64\n",
      " 2   bathrooms          16192 non-null  float64\n",
      " 3   additional_rooms   16875 non-null  object \n",
      " 4   balcany            14733 non-null  object \n",
      " 5   brokarage          14806 non-null  object \n",
      " 6   area               16875 non-null  object \n",
      " 7   furnishing         16243 non-null  object \n",
      " 8   avalable_for       16875 non-null  object \n",
      " 9   address            16249 non-null  object \n",
      " 10  floor_number       15078 non-null  object \n",
      " 11  facing             10972 non-null  object \n",
      " 12  floor_type         9729 non-null   object \n",
      " 13  gate_community     9516 non-null   object \n",
      " 14  corner_pro         2301 non-null   object \n",
      " 15  parking            13679 non-null  object \n",
      " 16  wheelchairadption  2906 non-null   object \n",
      " 17  petfacility        3627 non-null   object \n",
      " 18  aggDur             16249 non-null  object \n",
      " 19  noticeDur          16249 non-null  object \n",
      " 20  lightbill          16249 non-null  object \n",
      " 21  powerbackup        16249 non-null  object \n",
      " 22  propertyage        16230 non-null  object \n",
      "dtypes: float64(2), object(21)\n",
      "memory usage: 3.0+ MB\n"
     ]
    }
   ],
   "source": [
    "# check all data types \n",
    "df.info()"
   ]
  },
  {
   "cell_type": "markdown",
   "id": "65dca116",
   "metadata": {},
   "source": [
    "based on data we need to change our data types too. beacause rent, brokage amount, area, floor number, aggDur, noticeDur, age must in int or float. remaining all are required as object dtypes.\n"
   ]
  },
  {
   "cell_type": "code",
   "execution_count": 6,
   "id": "12b7c250",
   "metadata": {
    "scrolled": false
   },
   "outputs": [
    {
     "data": {
      "text/plain": [
       "rent                   630\n",
       "bedroom                704\n",
       "bathrooms              683\n",
       "additional_rooms         0\n",
       "balcany               2142\n",
       "brokarage             2069\n",
       "area                     0\n",
       "furnishing             632\n",
       "avalable_for             0\n",
       "address                626\n",
       "floor_number          1797\n",
       "facing                5903\n",
       "floor_type            7146\n",
       "gate_community        7359\n",
       "corner_pro           14574\n",
       "parking               3196\n",
       "wheelchairadption    13969\n",
       "petfacility          13248\n",
       "aggDur                 626\n",
       "noticeDur              626\n",
       "lightbill              626\n",
       "powerbackup            626\n",
       "propertyage            645\n",
       "dtype: int64"
      ]
     },
     "execution_count": 6,
     "metadata": {},
     "output_type": "execute_result"
    }
   ],
   "source": [
    "# check for missing values\n",
    "df.isnull().sum()\n",
    "\n",
    "## most of every columns has missing values . We will check the website & every missing data has facility not available at ther place.\n",
    "# around 630  rows has no data present so we will drop all those columns"
   ]
  },
  {
   "cell_type": "code",
   "execution_count": 7,
   "id": "dcd5267d",
   "metadata": {},
   "outputs": [],
   "source": [
    "a  = df[df['rent'].isnull()].index.to_list()"
   ]
  },
  {
   "cell_type": "code",
   "execution_count": 8,
   "id": "3402ee30",
   "metadata": {},
   "outputs": [
    {
     "data": {
      "text/html": [
       "<div>\n",
       "<style scoped>\n",
       "    .dataframe tbody tr th:only-of-type {\n",
       "        vertical-align: middle;\n",
       "    }\n",
       "\n",
       "    .dataframe tbody tr th {\n",
       "        vertical-align: top;\n",
       "    }\n",
       "\n",
       "    .dataframe thead th {\n",
       "        text-align: right;\n",
       "    }\n",
       "</style>\n",
       "<table border=\"1\" class=\"dataframe\">\n",
       "  <thead>\n",
       "    <tr style=\"text-align: right;\">\n",
       "      <th></th>\n",
       "      <th>rent</th>\n",
       "      <th>bedroom</th>\n",
       "      <th>bathrooms</th>\n",
       "      <th>additional_rooms</th>\n",
       "      <th>balcany</th>\n",
       "      <th>brokarage</th>\n",
       "      <th>area</th>\n",
       "      <th>furnishing</th>\n",
       "      <th>avalable_for</th>\n",
       "      <th>address</th>\n",
       "      <th>...</th>\n",
       "      <th>gate_community</th>\n",
       "      <th>corner_pro</th>\n",
       "      <th>parking</th>\n",
       "      <th>wheelchairadption</th>\n",
       "      <th>petfacility</th>\n",
       "      <th>aggDur</th>\n",
       "      <th>noticeDur</th>\n",
       "      <th>lightbill</th>\n",
       "      <th>powerbackup</th>\n",
       "      <th>propertyage</th>\n",
       "    </tr>\n",
       "  </thead>\n",
       "  <tbody>\n",
       "    <tr>\n",
       "      <th>25</th>\n",
       "      <td>NaN</td>\n",
       "      <td>NaN</td>\n",
       "      <td>NaN</td>\n",
       "      <td>Not given</td>\n",
       "      <td>0</td>\n",
       "      <td>NaN</td>\n",
       "      <td>None</td>\n",
       "      <td>NaN</td>\n",
       "      <td>None</td>\n",
       "      <td>NaN</td>\n",
       "      <td>...</td>\n",
       "      <td>NaN</td>\n",
       "      <td>NaN</td>\n",
       "      <td>NaN</td>\n",
       "      <td>NaN</td>\n",
       "      <td>NaN</td>\n",
       "      <td>NaN</td>\n",
       "      <td>NaN</td>\n",
       "      <td>NaN</td>\n",
       "      <td>NaN</td>\n",
       "      <td>NaN</td>\n",
       "    </tr>\n",
       "    <tr>\n",
       "      <th>51</th>\n",
       "      <td>NaN</td>\n",
       "      <td>NaN</td>\n",
       "      <td>NaN</td>\n",
       "      <td>Not given</td>\n",
       "      <td>0</td>\n",
       "      <td>NaN</td>\n",
       "      <td>None</td>\n",
       "      <td>NaN</td>\n",
       "      <td>None</td>\n",
       "      <td>NaN</td>\n",
       "      <td>...</td>\n",
       "      <td>NaN</td>\n",
       "      <td>NaN</td>\n",
       "      <td>NaN</td>\n",
       "      <td>NaN</td>\n",
       "      <td>NaN</td>\n",
       "      <td>NaN</td>\n",
       "      <td>NaN</td>\n",
       "      <td>NaN</td>\n",
       "      <td>NaN</td>\n",
       "      <td>NaN</td>\n",
       "    </tr>\n",
       "    <tr>\n",
       "      <th>77</th>\n",
       "      <td>NaN</td>\n",
       "      <td>NaN</td>\n",
       "      <td>NaN</td>\n",
       "      <td>Not given</td>\n",
       "      <td>0</td>\n",
       "      <td>NaN</td>\n",
       "      <td>None</td>\n",
       "      <td>NaN</td>\n",
       "      <td>None</td>\n",
       "      <td>NaN</td>\n",
       "      <td>...</td>\n",
       "      <td>NaN</td>\n",
       "      <td>NaN</td>\n",
       "      <td>NaN</td>\n",
       "      <td>NaN</td>\n",
       "      <td>NaN</td>\n",
       "      <td>NaN</td>\n",
       "      <td>NaN</td>\n",
       "      <td>NaN</td>\n",
       "      <td>NaN</td>\n",
       "      <td>NaN</td>\n",
       "    </tr>\n",
       "    <tr>\n",
       "      <th>103</th>\n",
       "      <td>NaN</td>\n",
       "      <td>NaN</td>\n",
       "      <td>NaN</td>\n",
       "      <td>Not given</td>\n",
       "      <td>0</td>\n",
       "      <td>NaN</td>\n",
       "      <td>None</td>\n",
       "      <td>NaN</td>\n",
       "      <td>None</td>\n",
       "      <td>NaN</td>\n",
       "      <td>...</td>\n",
       "      <td>NaN</td>\n",
       "      <td>NaN</td>\n",
       "      <td>NaN</td>\n",
       "      <td>NaN</td>\n",
       "      <td>NaN</td>\n",
       "      <td>NaN</td>\n",
       "      <td>NaN</td>\n",
       "      <td>NaN</td>\n",
       "      <td>NaN</td>\n",
       "      <td>NaN</td>\n",
       "    </tr>\n",
       "    <tr>\n",
       "      <th>129</th>\n",
       "      <td>NaN</td>\n",
       "      <td>NaN</td>\n",
       "      <td>NaN</td>\n",
       "      <td>Not given</td>\n",
       "      <td>0</td>\n",
       "      <td>NaN</td>\n",
       "      <td>None</td>\n",
       "      <td>NaN</td>\n",
       "      <td>None</td>\n",
       "      <td>NaN</td>\n",
       "      <td>...</td>\n",
       "      <td>NaN</td>\n",
       "      <td>NaN</td>\n",
       "      <td>NaN</td>\n",
       "      <td>NaN</td>\n",
       "      <td>NaN</td>\n",
       "      <td>NaN</td>\n",
       "      <td>NaN</td>\n",
       "      <td>NaN</td>\n",
       "      <td>NaN</td>\n",
       "      <td>NaN</td>\n",
       "    </tr>\n",
       "    <tr>\n",
       "      <th>...</th>\n",
       "      <td>...</td>\n",
       "      <td>...</td>\n",
       "      <td>...</td>\n",
       "      <td>...</td>\n",
       "      <td>...</td>\n",
       "      <td>...</td>\n",
       "      <td>...</td>\n",
       "      <td>...</td>\n",
       "      <td>...</td>\n",
       "      <td>...</td>\n",
       "      <td>...</td>\n",
       "      <td>...</td>\n",
       "      <td>...</td>\n",
       "      <td>...</td>\n",
       "      <td>...</td>\n",
       "      <td>...</td>\n",
       "      <td>...</td>\n",
       "      <td>...</td>\n",
       "      <td>...</td>\n",
       "      <td>...</td>\n",
       "      <td>...</td>\n",
       "    </tr>\n",
       "    <tr>\n",
       "      <th>16770</th>\n",
       "      <td>NaN</td>\n",
       "      <td>NaN</td>\n",
       "      <td>NaN</td>\n",
       "      <td>Not given</td>\n",
       "      <td>0</td>\n",
       "      <td>NaN</td>\n",
       "      <td>None</td>\n",
       "      <td>NaN</td>\n",
       "      <td>None</td>\n",
       "      <td>NaN</td>\n",
       "      <td>...</td>\n",
       "      <td>NaN</td>\n",
       "      <td>NaN</td>\n",
       "      <td>NaN</td>\n",
       "      <td>NaN</td>\n",
       "      <td>NaN</td>\n",
       "      <td>NaN</td>\n",
       "      <td>NaN</td>\n",
       "      <td>NaN</td>\n",
       "      <td>NaN</td>\n",
       "      <td>NaN</td>\n",
       "    </tr>\n",
       "    <tr>\n",
       "      <th>16796</th>\n",
       "      <td>NaN</td>\n",
       "      <td>NaN</td>\n",
       "      <td>NaN</td>\n",
       "      <td>Not given</td>\n",
       "      <td>0</td>\n",
       "      <td>NaN</td>\n",
       "      <td>None</td>\n",
       "      <td>NaN</td>\n",
       "      <td>None</td>\n",
       "      <td>NaN</td>\n",
       "      <td>...</td>\n",
       "      <td>NaN</td>\n",
       "      <td>NaN</td>\n",
       "      <td>NaN</td>\n",
       "      <td>NaN</td>\n",
       "      <td>NaN</td>\n",
       "      <td>NaN</td>\n",
       "      <td>NaN</td>\n",
       "      <td>NaN</td>\n",
       "      <td>NaN</td>\n",
       "      <td>NaN</td>\n",
       "    </tr>\n",
       "    <tr>\n",
       "      <th>16822</th>\n",
       "      <td>NaN</td>\n",
       "      <td>NaN</td>\n",
       "      <td>NaN</td>\n",
       "      <td>Not given</td>\n",
       "      <td>0</td>\n",
       "      <td>NaN</td>\n",
       "      <td>None</td>\n",
       "      <td>NaN</td>\n",
       "      <td>None</td>\n",
       "      <td>NaN</td>\n",
       "      <td>...</td>\n",
       "      <td>NaN</td>\n",
       "      <td>NaN</td>\n",
       "      <td>NaN</td>\n",
       "      <td>NaN</td>\n",
       "      <td>NaN</td>\n",
       "      <td>NaN</td>\n",
       "      <td>NaN</td>\n",
       "      <td>NaN</td>\n",
       "      <td>NaN</td>\n",
       "      <td>NaN</td>\n",
       "    </tr>\n",
       "    <tr>\n",
       "      <th>16848</th>\n",
       "      <td>NaN</td>\n",
       "      <td>NaN</td>\n",
       "      <td>NaN</td>\n",
       "      <td>Not given</td>\n",
       "      <td>0</td>\n",
       "      <td>NaN</td>\n",
       "      <td>None</td>\n",
       "      <td>NaN</td>\n",
       "      <td>None</td>\n",
       "      <td>NaN</td>\n",
       "      <td>...</td>\n",
       "      <td>NaN</td>\n",
       "      <td>NaN</td>\n",
       "      <td>NaN</td>\n",
       "      <td>NaN</td>\n",
       "      <td>NaN</td>\n",
       "      <td>NaN</td>\n",
       "      <td>NaN</td>\n",
       "      <td>NaN</td>\n",
       "      <td>NaN</td>\n",
       "      <td>NaN</td>\n",
       "    </tr>\n",
       "    <tr>\n",
       "      <th>16874</th>\n",
       "      <td>NaN</td>\n",
       "      <td>NaN</td>\n",
       "      <td>NaN</td>\n",
       "      <td>Not given</td>\n",
       "      <td>0</td>\n",
       "      <td>NaN</td>\n",
       "      <td>None</td>\n",
       "      <td>NaN</td>\n",
       "      <td>None</td>\n",
       "      <td>NaN</td>\n",
       "      <td>...</td>\n",
       "      <td>NaN</td>\n",
       "      <td>NaN</td>\n",
       "      <td>NaN</td>\n",
       "      <td>NaN</td>\n",
       "      <td>NaN</td>\n",
       "      <td>NaN</td>\n",
       "      <td>NaN</td>\n",
       "      <td>NaN</td>\n",
       "      <td>NaN</td>\n",
       "      <td>NaN</td>\n",
       "    </tr>\n",
       "  </tbody>\n",
       "</table>\n",
       "<p>630 rows × 23 columns</p>\n",
       "</div>"
      ],
      "text/plain": [
       "      rent  bedroom  bathrooms additional_rooms balcany brokarage  area  \\\n",
       "25     NaN      NaN        NaN        Not given       0       NaN  None   \n",
       "51     NaN      NaN        NaN        Not given       0       NaN  None   \n",
       "77     NaN      NaN        NaN        Not given       0       NaN  None   \n",
       "103    NaN      NaN        NaN        Not given       0       NaN  None   \n",
       "129    NaN      NaN        NaN        Not given       0       NaN  None   \n",
       "...    ...      ...        ...              ...     ...       ...   ...   \n",
       "16770  NaN      NaN        NaN        Not given       0       NaN  None   \n",
       "16796  NaN      NaN        NaN        Not given       0       NaN  None   \n",
       "16822  NaN      NaN        NaN        Not given       0       NaN  None   \n",
       "16848  NaN      NaN        NaN        Not given       0       NaN  None   \n",
       "16874  NaN      NaN        NaN        Not given       0       NaN  None   \n",
       "\n",
       "      furnishing avalable_for address  ... gate_community corner_pro parking  \\\n",
       "25           NaN         None     NaN  ...            NaN        NaN     NaN   \n",
       "51           NaN         None     NaN  ...            NaN        NaN     NaN   \n",
       "77           NaN         None     NaN  ...            NaN        NaN     NaN   \n",
       "103          NaN         None     NaN  ...            NaN        NaN     NaN   \n",
       "129          NaN         None     NaN  ...            NaN        NaN     NaN   \n",
       "...          ...          ...     ...  ...            ...        ...     ...   \n",
       "16770        NaN         None     NaN  ...            NaN        NaN     NaN   \n",
       "16796        NaN         None     NaN  ...            NaN        NaN     NaN   \n",
       "16822        NaN         None     NaN  ...            NaN        NaN     NaN   \n",
       "16848        NaN         None     NaN  ...            NaN        NaN     NaN   \n",
       "16874        NaN         None     NaN  ...            NaN        NaN     NaN   \n",
       "\n",
       "      wheelchairadption petfacility aggDur noticeDur lightbill powerbackup  \\\n",
       "25                  NaN         NaN    NaN       NaN       NaN         NaN   \n",
       "51                  NaN         NaN    NaN       NaN       NaN         NaN   \n",
       "77                  NaN         NaN    NaN       NaN       NaN         NaN   \n",
       "103                 NaN         NaN    NaN       NaN       NaN         NaN   \n",
       "129                 NaN         NaN    NaN       NaN       NaN         NaN   \n",
       "...                 ...         ...    ...       ...       ...         ...   \n",
       "16770               NaN         NaN    NaN       NaN       NaN         NaN   \n",
       "16796               NaN         NaN    NaN       NaN       NaN         NaN   \n",
       "16822               NaN         NaN    NaN       NaN       NaN         NaN   \n",
       "16848               NaN         NaN    NaN       NaN       NaN         NaN   \n",
       "16874               NaN         NaN    NaN       NaN       NaN         NaN   \n",
       "\n",
       "      propertyage  \n",
       "25            NaN  \n",
       "51            NaN  \n",
       "77            NaN  \n",
       "103           NaN  \n",
       "129           NaN  \n",
       "...           ...  \n",
       "16770         NaN  \n",
       "16796         NaN  \n",
       "16822         NaN  \n",
       "16848         NaN  \n",
       "16874         NaN  \n",
       "\n",
       "[630 rows x 23 columns]"
      ]
     },
     "execution_count": 8,
     "metadata": {},
     "output_type": "execute_result"
    }
   ],
   "source": [
    "df.iloc[a]"
   ]
  },
  {
   "cell_type": "code",
   "execution_count": 9,
   "id": "b07601dc",
   "metadata": {},
   "outputs": [
    {
     "data": {
      "text/plain": [
       "(16875, 23)"
      ]
     },
     "execution_count": 9,
     "metadata": {},
     "output_type": "execute_result"
    }
   ],
   "source": [
    "df.shape"
   ]
  },
  {
   "cell_type": "code",
   "execution_count": 10,
   "id": "1e056797",
   "metadata": {},
   "outputs": [],
   "source": [
    "df.drop(a, inplace = True)"
   ]
  },
  {
   "cell_type": "code",
   "execution_count": 11,
   "id": "ad9ca186",
   "metadata": {},
   "outputs": [
    {
     "data": {
      "text/plain": [
       "(16245, 23)"
      ]
     },
     "execution_count": 11,
     "metadata": {},
     "output_type": "execute_result"
    }
   ],
   "source": [
    "df.shape"
   ]
  },
  {
   "cell_type": "code",
   "execution_count": 12,
   "id": "af67fc4c",
   "metadata": {},
   "outputs": [
    {
     "data": {
      "text/plain": [
       "rent                     0\n",
       "bedroom                 78\n",
       "bathrooms               57\n",
       "additional_rooms         0\n",
       "balcany               2142\n",
       "brokarage             1441\n",
       "area                     0\n",
       "furnishing               6\n",
       "avalable_for             0\n",
       "address                  0\n",
       "floor_number          1171\n",
       "facing                5275\n",
       "floor_type            6518\n",
       "gate_community        6730\n",
       "corner_pro           13944\n",
       "parking               2568\n",
       "wheelchairadption    13339\n",
       "petfacility          12618\n",
       "aggDur                   0\n",
       "noticeDur                0\n",
       "lightbill                0\n",
       "powerbackup              0\n",
       "propertyage             19\n",
       "dtype: int64"
      ]
     },
     "execution_count": 12,
     "metadata": {},
     "output_type": "execute_result"
    }
   ],
   "source": [
    "df.isnull().sum()"
   ]
  },
  {
   "cell_type": "markdown",
   "id": "afdd36e1",
   "metadata": {},
   "source": [
    "### Rent Column processing"
   ]
  },
  {
   "cell_type": "code",
   "execution_count": 13,
   "id": "4d5ada8b",
   "metadata": {},
   "outputs": [],
   "source": [
    "# remove ',' from rent value\n",
    "df['rent'] = df['rent'].str.replace(',', '')\n",
    "#rent in thousand & lacs convert into rupee\n",
    "new_rent = []\n",
    "for i in df.rent:\n",
    "    if len(i.split()) == 1:\n",
    "        new_rent.append(i)\n",
    "    elif len(i.split())== 2:\n",
    "        a = i.split()\n",
    "        new_rent.append((float (a[0]))*100000)\n",
    "    else:\n",
    "        new_rent.append(i)\n",
    "\n",
    "df['rent'] = new_rent\n",
    "# change a single value from data to random number so that we can easily fill that values with other so we used 123456789\n",
    "df['rent'] = df['rent'].str.replace('Price on Request', '123456789')\n",
    "# 'finally covert the type of series'\n",
    "df['rent']= df['rent'].astype(float)"
   ]
  },
  {
   "cell_type": "code",
   "execution_count": 14,
   "id": "14fa9c13",
   "metadata": {},
   "outputs": [
    {
     "data": {
      "text/plain": [
       "132"
      ]
     },
     "execution_count": 14,
     "metadata": {},
     "output_type": "execute_result"
    }
   ],
   "source": [
    "df['rent'].isnull().sum()"
   ]
  },
  {
   "cell_type": "markdown",
   "id": "e1119244",
   "metadata": {},
   "source": [
    "### Additional rooms  columns processing"
   ]
  },
  {
   "cell_type": "code",
   "execution_count": 15,
   "id": "4e058833",
   "metadata": {},
   "outputs": [
    {
     "data": {
      "text/plain": [
       "array(['Not given', 'Store Room', 'Others', 'Pooja Room',\n",
       "       'Pooja Room,Study Room,Servant Room,Others', 'Study Room',\n",
       "       'Servant Room', 'Study Room,Others', 'Study Room,Pooja Room',\n",
       "       'Pooja Room,Study Room', 'Servant Room,Store Room',\n",
       "       'Pooja Room,Servant Room', 'Pooja Room,Others',\n",
       "       'Study Room,Servant Room,Others',\n",
       "       'Pooja Room,Study Room,Servant Room',\n",
       "       'Pooja Room,Servant Room,Others', 'Others,Pooja Room',\n",
       "       'Others,Store Room', 'Others,Pooja Room,Study Room',\n",
       "       'Pooja Room,Study Room,Servant Room,Store Room',\n",
       "       'Study Room,Pooja Room,Servant Room,Store Room',\n",
       "       'Servant Room,Others', 'Pooja Room,Store Room',\n",
       "       'Pooja Room,Study Room,Others', 'Pooja Room,Study Room,Store Room',\n",
       "       'Study Room,Servant Room,Others,Pooja Room',\n",
       "       'Servant Room,Study Room,Others',\n",
       "       'Store Room,Pooja Room,Study Room', 'Study Room,Servant Room',\n",
       "       'Servant Room,Pooja Room',\n",
       "       'Pooja Room,Store Room,Study Room,Servant Room',\n",
       "       'Store Room,Pooja Room', 'Study Room,Others,Servant Room',\n",
       "       'Study Room,Store Room', 'Others,Study Room',\n",
       "       'Servant Room,Pooja Room,Store Room,Study Room',\n",
       "       'Servant Room,Study Room,Pooja Room,Store Room',\n",
       "       'Servant Room,Pooja Room,Study Room,Store Room',\n",
       "       'Study Room,Others,Servant Room,Pooja Room',\n",
       "       'Servant Room,Others,Pooja Room,Study Room',\n",
       "       'Study Room,Pooja Room,Servant Room', 'Others,Servant Room',\n",
       "       'Study Room,Servant Room,Store Room',\n",
       "       'Others,Pooja Room,Study Room,Servant Room',\n",
       "       'Study Room,Pooja Room,Store Room', 'Store Room,Study Room',\n",
       "       'Store Room,Servant Room', 'Others,Servant Room,Study Room',\n",
       "       'Others,Pooja Room,Store Room', 'Study Room,Pooja Room,Others',\n",
       "       'Study Room,Store Room,Pooja Room',\n",
       "       'Pooja Room,Store Room,Study Room',\n",
       "       'Study Room,Pooja Room,Servant Room,Others',\n",
       "       'Study Room,Servant Room,Store Room,Pooja Room',\n",
       "       'Pooja Room,Study Room,Others,Servant Room',\n",
       "       'Pooja Room,Servant Room,Study Room,Store Room',\n",
       "       'Servant Room,Study Room,Pooja Room',\n",
       "       'Pooja Room,Servant Room,Study Room', 'Servant Room,Study Room',\n",
       "       'Pooja Room,Servant Room,Study Room,Others',\n",
       "       'Others,Servant Room,Study Room,Pooja Room',\n",
       "       'Servant Room,Pooja Room,Study Room',\n",
       "       'Servant Room,Others,Pooja Room',\n",
       "       'Servant Room,Study Room,Store Room',\n",
       "       'Store Room,Servant Room,Pooja Room',\n",
       "       'Study Room,Servant Room,Pooja Room',\n",
       "       'Others,Study Room,Pooja Room'], dtype=object)"
      ]
     },
     "execution_count": 15,
     "metadata": {},
     "output_type": "execute_result"
    }
   ],
   "source": [
    "# based on unique values in colun we found that they provided 'Servant Room,Study Room,Pooja Room,Store Room'Others' \n",
    "# also some of houses dosen't have any extra room\n",
    "# \n",
    "df['additional_rooms'].unique()"
   ]
  },
  {
   "cell_type": "code",
   "execution_count": 16,
   "id": "64f7dfa6",
   "metadata": {
    "scrolled": false
   },
   "outputs": [],
   "source": [
    "# create a chunk of list which each room binary value\n",
    "pooja_room = []\n",
    "servant_room = []\n",
    "study_room = []\n",
    "others= []\n",
    "no_room = []\n",
    "store_room = []\n",
    "\n",
    "for i in df.additional_rooms:\n",
    "    rooms = i.split(',')\n",
    "    if 'Not given' in rooms:\n",
    "        no_room.append(1)\n",
    "    else:\n",
    "        no_room.append(0)\n",
    "        \n",
    "        \n",
    "    if 'Pooja Room' in rooms:\n",
    "        pooja_room.append(1)\n",
    "    else:\n",
    "        pooja_room.append(0)\n",
    "        \n",
    "        \n",
    "    if 'Study Room' in rooms:\n",
    "        study_room.append(1)\n",
    "    else:\n",
    "        study_room.append(0)\n",
    "    \n",
    "    if 'Others' in rooms:\n",
    "        others.append(1)\n",
    "    else:\n",
    "        others.append(0)\n",
    "        \n",
    "    if 'Servant Room' in rooms:\n",
    "        servant_room.append(1)\n",
    "    else:\n",
    "        servant_room.append(0)\n",
    "        \n",
    "    if 'Store Room' in rooms:\n",
    "        store_room.append(1)\n",
    "    else:\n",
    "        store_room.append(0)\n",
    "\n",
    "# then create a columns & append binary values list \n",
    "df['no_room'] = no_room\n",
    "df['pooja_room'] = pooja_room\n",
    "df['study_room'] = study_room\n",
    "df['others'] = others\n",
    "df['servant_room'] = servant_room\n",
    "df['store_room'] = store_room"
   ]
  },
  {
   "cell_type": "code",
   "execution_count": 17,
   "id": "bc5a72e9",
   "metadata": {},
   "outputs": [
    {
     "data": {
      "text/plain": [
       "0"
      ]
     },
     "execution_count": 17,
     "metadata": {},
     "output_type": "execute_result"
    }
   ],
   "source": [
    "df['additional_rooms'].isnull().sum()"
   ]
  },
  {
   "cell_type": "markdown",
   "id": "5d34f7fd",
   "metadata": {},
   "source": [
    "### Balcony Column processing "
   ]
  },
  {
   "cell_type": "code",
   "execution_count": 18,
   "id": "a532a613",
   "metadata": {},
   "outputs": [
    {
     "data": {
      "text/plain": [
       "array([nan,  2.,  1.,  5.,  3.,  0.])"
      ]
     },
     "execution_count": 18,
     "metadata": {},
     "output_type": "execute_result"
    }
   ],
   "source": [
    "## we have missing values & exxtra character called 3+ we replace a number with respective to that place (5)\n",
    "df['balcany'].replace('3', 3.0, inplace =True)\n",
    "df['balcany'].replace('3+', 5.0, inplace =True)\n",
    "df['balcany'].replace('1', 1.0, inplace =True)\n",
    "df['balcany'].replace('2', 2.0, inplace =True)\n",
    "df['balcany'].replace('0', 0, inplace =True)\n",
    "df.balcany.unique()"
   ]
  },
  {
   "cell_type": "code",
   "execution_count": 19,
   "id": "7500038f",
   "metadata": {},
   "outputs": [
    {
     "name": "stdout",
     "output_type": "stream",
     "text": [
      "missing count 0\n"
     ]
    },
    {
     "data": {
      "text/plain": [
       "array([0., 2., 1., 5., 3.])"
      ]
     },
     "execution_count": 19,
     "metadata": {},
     "output_type": "execute_result"
    }
   ],
   "source": [
    "df['balcany'].fillna(0, inplace =True)\n",
    "print('missing count',df.balcany.isnull().sum())\n",
    "df['balcany'] = df['balcany'].astype(float)\n",
    "df.balcany.unique()"
   ]
  },
  {
   "cell_type": "markdown",
   "id": "921493c7",
   "metadata": {},
   "source": [
    "### Bedroom Column Processing "
   ]
  },
  {
   "cell_type": "code",
   "execution_count": 20,
   "id": "951dfe02",
   "metadata": {},
   "outputs": [],
   "source": [
    "# import numpy as np\n",
    "df.bedroom.fillna(1, inplace  =  True )\n",
    "df.bedroom = df.bedroom.astype(int)"
   ]
  },
  {
   "cell_type": "markdown",
   "id": "fc34691a",
   "metadata": {},
   "source": [
    "### Bathroom column processing"
   ]
  },
  {
   "cell_type": "code",
   "execution_count": 21,
   "id": "3008c46d",
   "metadata": {
    "scrolled": true
   },
   "outputs": [],
   "source": [
    "df.bathrooms.fillna(1, inplace  =  True )\n",
    "df.bathrooms = df.bathrooms.astype(int)"
   ]
  },
  {
   "cell_type": "markdown",
   "id": "79b59140",
   "metadata": {},
   "source": [
    "### Different amounts scrapping "
   ]
  },
  {
   "cell_type": "code",
   "execution_count": 22,
   "id": "c636f519",
   "metadata": {},
   "outputs": [],
   "source": [
    "df.brokarage.fillna('0',inplace = True)\n",
    "df.brokarage = df.brokarage.str.replace('₹', '')\n",
    "df.brokarage = df.brokarage.str.replace(',', '')\n",
    "df.brokarage = df.brokarage.str.replace('-', '')\n"
   ]
  },
  {
   "cell_type": "code",
   "execution_count": 23,
   "id": "ccd6874c",
   "metadata": {
    "scrolled": true
   },
   "outputs": [],
   "source": [
    "deposit = []\n",
    "brokage = []\n",
    "maintenance = []\n",
    "import re\n",
    "for i in df.brokarage:\n",
    "    deposit.append((re.findall(\"D.*\\w+\", i)))\n",
    "    brokage.append(re.findall('B.\\w+.*\\)',i))\n"
   ]
  },
  {
   "cell_type": "code",
   "execution_count": 24,
   "id": "6ee15569",
   "metadata": {},
   "outputs": [],
   "source": [
    "for i in df.brokarage:\n",
    "    a = (i.split(')')[0])\n",
    "    if 'Maintenance' in a:\n",
    "        maintenance.append(a)\n",
    "    else :\n",
    "        maintenance.append(0)"
   ]
  },
  {
   "cell_type": "code",
   "execution_count": 25,
   "id": "c834a293",
   "metadata": {},
   "outputs": [],
   "source": [
    "df['maintenance_amt'] = maintenance\n",
    "df['brok_amt'] = brokage\n",
    "df['deposit_amt'] = deposit"
   ]
  },
  {
   "cell_type": "code",
   "execution_count": 26,
   "id": "61bae9b0",
   "metadata": {},
   "outputs": [],
   "source": [
    "new_df = pd.DataFrame(df[['maintenance_amt','brok_amt','deposit_amt']])\n"
   ]
  },
  {
   "cell_type": "code",
   "execution_count": 27,
   "id": "b6226c1f",
   "metadata": {},
   "outputs": [],
   "source": [
    "new_df['maintenance_amt'] = new_df['maintenance_amt'].replace('/', ' ', regex =True).replace('Maintenance', \"\", regex = True).replace('\\(', ' ', regex =True)"
   ]
  },
  {
   "cell_type": "code",
   "execution_count": 28,
   "id": "f3b03afb",
   "metadata": {},
   "outputs": [],
   "source": [
    "mnt_amt = []\n",
    "for i in new_df['maintenance_amt']:\n",
    "    data = str(i).split() \n",
    "    if 'month' in data:\n",
    "        mnt_amt.append(float(data[0]))\n",
    "    elif 'year' in data:\n",
    "        mnt_amt.append(float(data[0])/12)\n",
    "    elif 'one' in data:\n",
    "        mnt_amt.append(float(data[0]))\n",
    "    else:\n",
    "        mnt_amt.append(float(data[0]))\n",
    "len(mnt_amt) \n",
    "new_df['maintenance_amt']  = mnt_amt"
   ]
  },
  {
   "cell_type": "markdown",
   "id": "d8305e1b",
   "metadata": {},
   "source": [
    "#### Brokarage Amount"
   ]
  },
  {
   "cell_type": "code",
   "execution_count": 29,
   "id": "eb75ceb5",
   "metadata": {},
   "outputs": [],
   "source": [
    "new_df['brok_amt'] = [' '.join(i) for i  in new_df['brok_amt']]\n",
    "new_df['brok_amt'] = [\"\".join(re.findall ('[0-9]', i)) for i in new_df['brok_amt']]\n",
    "new_df['brok_amt'] = new_df['brok_amt'].replace('', 0, regex =  True)\n",
    "new_df.brok_amt = new_df.brok_amt.astype(float)"
   ]
  },
  {
   "cell_type": "markdown",
   "id": "bb68ea30",
   "metadata": {},
   "source": [
    "#### deposit "
   ]
  },
  {
   "cell_type": "code",
   "execution_count": 30,
   "id": "2ff958b0",
   "metadata": {},
   "outputs": [],
   "source": [
    "new_df['deposit_amt'] = [' '.join(i) for i  in new_df['deposit_amt']]\n",
    "new_df['deposit_amt'] = [\"\".join(re.findall ('[0-9]', i)) for i in new_df['deposit_amt']]\n",
    "new_df['deposit_amt'] = new_df['deposit_amt'].replace('', 0, regex =  True)"
   ]
  },
  {
   "cell_type": "code",
   "execution_count": 31,
   "id": "78dc5107",
   "metadata": {},
   "outputs": [],
   "source": [
    "new_df.deposit_amt = new_df.deposit_amt.astype(float)"
   ]
  },
  {
   "cell_type": "markdown",
   "id": "8de3180e",
   "metadata": {},
   "source": [
    "#### adding all amount to data frame "
   ]
  },
  {
   "cell_type": "code",
   "execution_count": 32,
   "id": "44603ffd",
   "metadata": {},
   "outputs": [],
   "source": [
    "df['mnt_amt'] = new_df['maintenance_amt']\n",
    "df['brok_amt'] = new_df['brok_amt']\n",
    "df['deposit_amt'] = new_df['deposit_amt']"
   ]
  },
  {
   "cell_type": "markdown",
   "id": "39370b75",
   "metadata": {},
   "source": [
    "#### we are dropping area for now"
   ]
  },
  {
   "cell_type": "markdown",
   "id": "36003557",
   "metadata": {},
   "source": [
    "### Furnishing Columns"
   ]
  },
  {
   "cell_type": "code",
   "execution_count": 33,
   "id": "a65e674c",
   "metadata": {},
   "outputs": [],
   "source": [
    "df.furnishing.isnull().sum()\n",
    "df.furnishing.unique()\n",
    "df.furnishing.fillna('Unfurnishe', inplace = True)"
   ]
  },
  {
   "cell_type": "markdown",
   "id": "8b140892",
   "metadata": {},
   "source": [
    "### Address"
   ]
  },
  {
   "cell_type": "code",
   "execution_count": 34,
   "id": "818a240e",
   "metadata": {},
   "outputs": [],
   "source": [
    "df.address = [(' '.join(i.split()[1:])) for i in df.address]\n"
   ]
  },
  {
   "cell_type": "markdown",
   "id": "060bfd7f",
   "metadata": {},
   "source": [
    "### Floor_number"
   ]
  },
  {
   "cell_type": "code",
   "execution_count": null,
   "id": "26dc622b",
   "metadata": {},
   "outputs": [],
   "source": []
  },
  {
   "cell_type": "code",
   "execution_count": 35,
   "id": "586e8597",
   "metadata": {},
   "outputs": [
    {
     "data": {
      "text/plain": [
       "array(['3', '2', '1', '4', '6', '5', 'n', '7', '8', 'G', '9', 'B', 'L'],\n",
       "      dtype=object)"
      ]
     },
     "execution_count": 35,
     "metadata": {},
     "output_type": "execute_result"
    }
   ],
   "source": [
    "df.floor_number = [str(i)[0] for i in df.floor_number]\n",
    "df.floor_number.unique()"
   ]
  },
  {
   "cell_type": "code",
   "execution_count": 36,
   "id": "861dbd48",
   "metadata": {},
   "outputs": [],
   "source": [
    "# n = Missing\n",
    "# B = Bottom\n",
    "# L = Last\n",
    "# G = Groud \n",
    "# We fill n, G, B = 0 number  L maximum ie. 9\n",
    "\n",
    "df['floor_number'] = df['floor_number'].replace('G', 0, regex =True).replace('B', 0, regex =True).replace('L', 9, regex =True).replace('n', 0, regex =True)"
   ]
  },
  {
   "cell_type": "markdown",
   "id": "2a9fc65b",
   "metadata": {},
   "source": [
    "### Facing"
   ]
  },
  {
   "cell_type": "code",
   "execution_count": 37,
   "id": "46883408",
   "metadata": {},
   "outputs": [
    {
     "data": {
      "text/plain": [
       "array(['South', 'North', nan, 'East', 'North-East', 'West', 'North-West',\n",
       "       'South-East', 'South-West'], dtype=object)"
      ]
     },
     "execution_count": 37,
     "metadata": {},
     "output_type": "execute_result"
    }
   ],
   "source": [
    "df.facing.unique()"
   ]
  },
  {
   "cell_type": "code",
   "execution_count": 38,
   "id": "51b29d54",
   "metadata": {},
   "outputs": [],
   "source": [
    "df.facing.fillna('No Direction', inplace =True)"
   ]
  },
  {
   "cell_type": "code",
   "execution_count": 39,
   "id": "03da5a84",
   "metadata": {},
   "outputs": [
    {
     "data": {
      "text/plain": [
       "0"
      ]
     },
     "execution_count": 39,
     "metadata": {},
     "output_type": "execute_result"
    }
   ],
   "source": [
    "df.facing.isnull().sum()"
   ]
  },
  {
   "cell_type": "markdown",
   "id": "0c733603",
   "metadata": {},
   "source": [
    "### Floor_type"
   ]
  },
  {
   "cell_type": "code",
   "execution_count": 40,
   "id": "f68849e3",
   "metadata": {},
   "outputs": [
    {
     "data": {
      "text/plain": [
       "0"
      ]
     },
     "execution_count": 40,
     "metadata": {},
     "output_type": "execute_result"
    }
   ],
   "source": [
    "df.floor_type.fillna('Not provided', inplace =True)\n",
    "df.floor_type.isnull().sum()"
   ]
  },
  {
   "cell_type": "markdown",
   "id": "fdc1131f",
   "metadata": {},
   "source": [
    "### gate_community"
   ]
  },
  {
   "cell_type": "code",
   "execution_count": 41,
   "id": "6dbc74a5",
   "metadata": {},
   "outputs": [
    {
     "data": {
      "text/plain": [
       "0"
      ]
     },
     "execution_count": 41,
     "metadata": {},
     "output_type": "execute_result"
    }
   ],
   "source": [
    "df.gate_community.unique()\n",
    "df.gate_community.fillna('No', inplace =True)\n",
    "df.gate_community.isnull().sum()"
   ]
  },
  {
   "cell_type": "markdown",
   "id": "66971ce7",
   "metadata": {},
   "source": [
    "### Corner property"
   ]
  },
  {
   "cell_type": "code",
   "execution_count": 42,
   "id": "eb086762",
   "metadata": {},
   "outputs": [
    {
     "data": {
      "text/plain": [
       "0"
      ]
     },
     "execution_count": 42,
     "metadata": {},
     "output_type": "execute_result"
    }
   ],
   "source": [
    "df.corner_pro.unique()\n",
    "df.corner_pro.fillna('No', inplace =True)\n",
    "df.corner_pro.isnull().sum()"
   ]
  },
  {
   "cell_type": "markdown",
   "id": "4e9bfb46",
   "metadata": {},
   "source": [
    "### parking"
   ]
  },
  {
   "cell_type": "code",
   "execution_count": 43,
   "id": "a30e8155",
   "metadata": {},
   "outputs": [],
   "source": [
    "df.parking.fillna(\"0\", inplace =True)"
   ]
  },
  {
   "cell_type": "code",
   "execution_count": 44,
   "id": "e3dab30d",
   "metadata": {},
   "outputs": [],
   "source": [
    "df.parking = df.parking.replace('Covered','',regex =True).replace('Open', '', regex =True).replace(',', '', regex =True).replace(0, '0').replace(' ','')"
   ]
  },
  {
   "cell_type": "code",
   "execution_count": 45,
   "id": "c614c718",
   "metadata": {},
   "outputs": [],
   "source": [
    "parking = []\n",
    "for i in df.parking:\n",
    "    if  len(i.strip()) ==0 :\n",
    "        parking.append(0)\n",
    "    else:\n",
    "        parking.append(i.strip()[0])\n",
    "        \n",
    "df.parking = parking"
   ]
  },
  {
   "cell_type": "markdown",
   "id": "013b24c6",
   "metadata": {},
   "source": [
    "### wheelchairadption"
   ]
  },
  {
   "cell_type": "code",
   "execution_count": 46,
   "id": "2c70657e",
   "metadata": {},
   "outputs": [
    {
     "data": {
      "text/plain": [
       "0"
      ]
     },
     "execution_count": 46,
     "metadata": {},
     "output_type": "execute_result"
    }
   ],
   "source": [
    "df.wheelchairadption.unique()\n",
    "df.wheelchairadption.fillna('None', inplace= True)\n",
    "df.wheelchairadption.isnull().sum()"
   ]
  },
  {
   "cell_type": "markdown",
   "id": "77620909",
   "metadata": {},
   "source": [
    "### petfacility"
   ]
  },
  {
   "cell_type": "code",
   "execution_count": 47,
   "id": "5a7c5d14",
   "metadata": {},
   "outputs": [
    {
     "data": {
      "text/plain": [
       "0"
      ]
     },
     "execution_count": 47,
     "metadata": {},
     "output_type": "execute_result"
    }
   ],
   "source": [
    "df.petfacility.unique()\n",
    "df.petfacility.fillna('None', inplace= True)\n",
    "df.petfacility.isnull().sum()"
   ]
  },
  {
   "cell_type": "markdown",
   "id": "9e8196e3",
   "metadata": {},
   "source": [
    "### aggDur"
   ]
  },
  {
   "cell_type": "code",
   "execution_count": 48,
   "id": "d4583b99",
   "metadata": {},
   "outputs": [
    {
     "data": {
      "text/plain": [
       "0"
      ]
     },
     "execution_count": 48,
     "metadata": {},
     "output_type": "execute_result"
    }
   ],
   "source": [
    "df.aggDur.unique()\n",
    "df.aggDur.fillna('None', inplace= True)\n",
    "df.aggDur = [i[0:2] for i in df.aggDur]\n",
    "df.aggDur = (df.aggDur.replace('No', '0', regex = True)).astype(int)\n",
    "df.aggDur.isnull().sum()"
   ]
  },
  {
   "cell_type": "code",
   "execution_count": 49,
   "id": "3fc9562d",
   "metadata": {},
   "outputs": [
    {
     "data": {
      "text/plain": [
       "Index(['rent', 'bedroom', 'bathrooms', 'additional_rooms', 'balcany',\n",
       "       'brokarage', 'area', 'furnishing', 'avalable_for', 'address',\n",
       "       'floor_number', 'facing', 'floor_type', 'gate_community', 'corner_pro',\n",
       "       'parking', 'wheelchairadption', 'petfacility', 'aggDur', 'noticeDur',\n",
       "       'lightbill', 'powerbackup', 'propertyage', 'no_room', 'pooja_room',\n",
       "       'study_room', 'others', 'servant_room', 'store_room', 'maintenance_amt',\n",
       "       'brok_amt', 'deposit_amt', 'mnt_amt'],\n",
       "      dtype='object')"
      ]
     },
     "execution_count": 49,
     "metadata": {},
     "output_type": "execute_result"
    }
   ],
   "source": [
    "df.columns"
   ]
  },
  {
   "cell_type": "markdown",
   "id": "e73d3689",
   "metadata": {},
   "source": [
    "### noticeDur"
   ]
  },
  {
   "cell_type": "code",
   "execution_count": 50,
   "id": "c6b63413",
   "metadata": {},
   "outputs": [
    {
     "data": {
      "text/plain": [
       "0"
      ]
     },
     "execution_count": 50,
     "metadata": {},
     "output_type": "execute_result"
    }
   ],
   "source": [
    "df.noticeDur.unique()\n",
    "df.noticeDur.fillna('None', inplace= True)\n",
    "df.noticeDur = [i[0] for i in df.noticeDur]\n",
    "df.noticeDur.unique()\n",
    "df.noticeDur = df.noticeDur.astype(int)\n",
    "df.noticeDur.isnull().sum()"
   ]
  },
  {
   "cell_type": "markdown",
   "id": "d26c0bc2",
   "metadata": {},
   "source": [
    "### power backup"
   ]
  },
  {
   "cell_type": "code",
   "execution_count": 51,
   "id": "b996f179",
   "metadata": {},
   "outputs": [
    {
     "data": {
      "text/plain": [
       "array([0, 1], dtype=int64)"
      ]
     },
     "execution_count": 51,
     "metadata": {},
     "output_type": "execute_result"
    }
   ],
   "source": [
    "df.lightbill = df.lightbill.replace('Charges not included', 0, regex =  True).replace('Charges included', 1, regex= True )\n",
    "df.lightbill.unique()"
   ]
  },
  {
   "cell_type": "markdown",
   "id": "f0d9320c",
   "metadata": {},
   "source": [
    "### Power backup"
   ]
  },
  {
   "cell_type": "code",
   "execution_count": 52,
   "id": "c24ddab6",
   "metadata": {},
   "outputs": [
    {
     "data": {
      "text/plain": [
       "array([0, 1, 2], dtype=int64)"
      ]
     },
     "execution_count": 52,
     "metadata": {},
     "output_type": "execute_result"
    }
   ],
   "source": [
    "df.powerbackup = df.powerbackup.replace('None', 0, regex =  True).replace('Partial', 1, regex= True ).replace('Full', 2, regex= True )\n",
    "df.powerbackup.unique()"
   ]
  },
  {
   "cell_type": "markdown",
   "id": "1eb7b7ed",
   "metadata": {},
   "source": [
    "### Age"
   ]
  },
  {
   "cell_type": "code",
   "execution_count": 53,
   "id": "b8250875",
   "metadata": {},
   "outputs": [
    {
     "data": {
      "text/plain": [
       "array(['10+ Year Old', '5 to 10 Year Old', '1 to 5 Year Old',\n",
       "       'Under Construction', '0 to 1 Year Old', nan], dtype=object)"
      ]
     },
     "execution_count": 53,
     "metadata": {},
     "output_type": "execute_result"
    }
   ],
   "source": [
    "df.propertyage.unique()"
   ]
  },
  {
   "cell_type": "code",
   "execution_count": 54,
   "id": "ab0125b7",
   "metadata": {},
   "outputs": [],
   "source": [
    "df.propertyage.fillna('NO age', inplace =  True)"
   ]
  },
  {
   "cell_type": "code",
   "execution_count": 55,
   "id": "c97a16b5",
   "metadata": {},
   "outputs": [
    {
     "data": {
      "text/plain": [
       "0"
      ]
     },
     "execution_count": 55,
     "metadata": {},
     "output_type": "execute_result"
    }
   ],
   "source": [
    "df.propertyage.isnull().sum()"
   ]
  },
  {
   "cell_type": "markdown",
   "id": "a57f3656",
   "metadata": {},
   "source": [
    "### Area "
   ]
  },
  {
   "cell_type": "code",
   "execution_count": 56,
   "id": "699b13a2",
   "metadata": {},
   "outputs": [],
   "source": [
    "df['area'] = df['area'].replace('Up', '', regex  = True).replace('area','', regex = True).replace(':', ' ', regex = True).replace('sq.ft.', '', regex = True)"
   ]
  },
  {
   "cell_type": "code",
   "execution_count": 57,
   "id": "43ff2903",
   "metadata": {},
   "outputs": [],
   "source": [
    "# Carpet.*\\(.*\\)                     carpet\n",
    "# Built.*C                           Built \n",
    "# Super.*B                       Super\n",
    "\n",
    "no_area = []\n",
    "super_area =[]\n",
    "built_area = []\n",
    "carpet_area = []\n",
    "for i in df.area:\n",
    "    carpet_area.append(re.findall( 'Carpet.*', i))\n",
    "new_area = pd.DataFrame()\n",
    "new_area['carpet_area'] = carpet_area\n",
    "new_area['carpet_area'] = [''. join(i) for i in new_area['carpet_area'] ]\n",
    "no_area = []\n",
    "for i in new_area['carpet_area']:\n",
    "    if (len(i)) == 0:\n",
    "        no_area.append(\"0\")\n",
    "    else:\n",
    "        no_area.append(i)\n",
    "new_area['carpet_area'] = no_area\n",
    "\n",
    "\n",
    "final_area = []\n",
    "for i in new_area.carpet_area:\n",
    "    area_sqft = (i.split())\n",
    "    if len(area_sqft) == 1:\n",
    "        final_area.append(int(area_sqft[0]))\n",
    "\n",
    "    else:\n",
    "        final_area.append(float(area_sqft[1]))\n"
   ]
  },
  {
   "cell_type": "code",
   "execution_count": 58,
   "id": "ca2afab4",
   "metadata": {},
   "outputs": [],
   "source": [
    "df['area'] = final_area"
   ]
  },
  {
   "cell_type": "markdown",
   "id": "cb257453",
   "metadata": {},
   "source": [
    "### Last missing value treatment"
   ]
  },
  {
   "cell_type": "code",
   "execution_count": 59,
   "id": "1dfdf19d",
   "metadata": {},
   "outputs": [
    {
     "data": {
      "text/plain": [
       "rent                 132\n",
       "bedroom                0\n",
       "bathrooms              0\n",
       "additional_rooms       0\n",
       "balcany                0\n",
       "brokarage              0\n",
       "area                   0\n",
       "furnishing             0\n",
       "avalable_for           0\n",
       "address                0\n",
       "floor_number           0\n",
       "facing                 0\n",
       "floor_type             0\n",
       "gate_community         0\n",
       "corner_pro             0\n",
       "parking                0\n",
       "wheelchairadption      0\n",
       "petfacility            0\n",
       "aggDur                 0\n",
       "noticeDur              0\n",
       "lightbill              0\n",
       "powerbackup            0\n",
       "propertyage            0\n",
       "no_room                0\n",
       "pooja_room             0\n",
       "study_room             0\n",
       "others                 0\n",
       "servant_room           0\n",
       "store_room             0\n",
       "maintenance_amt        0\n",
       "brok_amt               0\n",
       "deposit_amt            0\n",
       "mnt_amt                0\n",
       "dtype: int64"
      ]
     },
     "execution_count": 59,
     "metadata": {},
     "output_type": "execute_result"
    }
   ],
   "source": [
    "df.isnull().sum()"
   ]
  },
  {
   "cell_type": "code",
   "execution_count": 60,
   "id": "6b13063e",
   "metadata": {},
   "outputs": [],
   "source": [
    "df.rent.fillna(df.rent.mean(), inplace = True)"
   ]
  },
  {
   "cell_type": "code",
   "execution_count": 61,
   "id": "55ed7a46",
   "metadata": {},
   "outputs": [
    {
     "data": {
      "text/plain": [
       "rent                 0\n",
       "bedroom              0\n",
       "bathrooms            0\n",
       "additional_rooms     0\n",
       "balcany              0\n",
       "brokarage            0\n",
       "area                 0\n",
       "furnishing           0\n",
       "avalable_for         0\n",
       "address              0\n",
       "floor_number         0\n",
       "facing               0\n",
       "floor_type           0\n",
       "gate_community       0\n",
       "corner_pro           0\n",
       "parking              0\n",
       "wheelchairadption    0\n",
       "petfacility          0\n",
       "aggDur               0\n",
       "noticeDur            0\n",
       "lightbill            0\n",
       "powerbackup          0\n",
       "propertyage          0\n",
       "no_room              0\n",
       "pooja_room           0\n",
       "study_room           0\n",
       "others               0\n",
       "servant_room         0\n",
       "store_room           0\n",
       "maintenance_amt      0\n",
       "brok_amt             0\n",
       "deposit_amt          0\n",
       "mnt_amt              0\n",
       "dtype: int64"
      ]
     },
     "execution_count": 61,
     "metadata": {},
     "output_type": "execute_result"
    }
   ],
   "source": [
    "df.isnull().sum()"
   ]
  },
  {
   "cell_type": "markdown",
   "id": "31e10bb1",
   "metadata": {},
   "source": [
    "**Final step of data cleaning is dropping unneccesory columns**"
   ]
  },
  {
   "cell_type": "code",
   "execution_count": 62,
   "id": "31791ce6",
   "metadata": {},
   "outputs": [],
   "source": [
    "df.drop(df.columns[[3, 5 , 4]], axis = 1, inplace = True)"
   ]
  },
  {
   "cell_type": "code",
   "execution_count": 63,
   "id": "eee2a842",
   "metadata": {},
   "outputs": [
    {
     "data": {
      "text/plain": [
       "(16245, 30)"
      ]
     },
     "execution_count": 63,
     "metadata": {},
     "output_type": "execute_result"
    }
   ],
   "source": [
    "df.shape"
   ]
  },
  {
   "cell_type": "code",
   "execution_count": 64,
   "id": "bd83bf26",
   "metadata": {},
   "outputs": [],
   "source": [
    "df.to_csv('final_data.csv', index_label =False)"
   ]
  },
  {
   "cell_type": "code",
   "execution_count": 65,
   "id": "31c2a0f3",
   "metadata": {},
   "outputs": [
    {
     "data": {
      "text/plain": [
       "(16245, 30)"
      ]
     },
     "execution_count": 65,
     "metadata": {},
     "output_type": "execute_result"
    }
   ],
   "source": [
    "df.shape"
   ]
  },
  {
   "cell_type": "code",
   "execution_count": null,
   "id": "eee8e968",
   "metadata": {},
   "outputs": [],
   "source": []
  }
 ],
 "metadata": {
  "kernelspec": {
   "display_name": "Python 3",
   "language": "python",
   "name": "python3"
  },
  "language_info": {
   "codemirror_mode": {
    "name": "ipython",
    "version": 3
   },
   "file_extension": ".py",
   "mimetype": "text/x-python",
   "name": "python",
   "nbconvert_exporter": "python",
   "pygments_lexer": "ipython3",
   "version": "3.7.7"
  }
 },
 "nbformat": 4,
 "nbformat_minor": 5
}
